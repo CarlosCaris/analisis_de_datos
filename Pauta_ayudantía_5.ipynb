{
  "cells": [
    {
      "cell_type": "code",
      "execution_count": 2,
      "metadata": {
        "colab": {
          "base_uri": "https://localhost:8080/"
        },
        "id": "sH6eTjrKZFaC",
        "outputId": "384c1c40-3554-4548-d2c5-90b1bfe8310f"
      },
      "outputs": [
        {
          "name": "stdout",
          "output_type": "stream",
          "text": [
            "           Mes  Ventas            Ciudad\n",
            "0        Enero   23000          Santiago\n",
            "1      Febrero   34000      Buenos Aires\n",
            "2        Marzo   29000              Lima\n",
            "3        Abril   15000            Bogotá\n",
            "4         Mayo   31000  Ciudad de México\n",
            "5        Junio   22000           Caracas\n",
            "6        Julio   25000          Santiago\n",
            "7       Agosto   37000      Buenos Aires\n",
            "8   Septiembre   40000              Lima\n",
            "9      Octubre   45000            Bogotá\n",
            "10   Noviembre   42000  Ciudad de México\n",
            "11   Diciembre   38000           Caracas\n",
            "12       Enero   24000          Santiago\n",
            "13     Febrero   33000      Buenos Aires\n",
            "14       Marzo   27000              Lima\n",
            "15       Abril   16000            Bogotá\n",
            "16        Mayo   30000  Ciudad de México\n",
            "17       Junio   21000           Caracas\n",
            "18       Julio   26000          Santiago\n",
            "19      Agosto   36000      Buenos Aires\n",
            "20  Septiembre   41000              Lima\n",
            "21     Octubre   43000            Bogotá\n",
            "22   Noviembre   39000  Ciudad de México\n",
            "23   Diciembre   35000           Caracas\n",
            "24       Enero   28000          Santiago\n",
            "25     Febrero   32000      Buenos Aires\n",
            "26       Marzo   23000              Lima\n",
            "27       Abril   18000            Bogotá\n",
            "28        Mayo   25000  Ciudad de México\n",
            "29       Junio   27000           Caracas\n"
          ]
        }
      ],
      "source": [
        "import pandas as pd\n",
        "df_ventas = pd.read_csv(\"data_ventas.csv\")\n",
        "print(df_ventas)"
      ]
    },
    {
      "cell_type": "code",
      "execution_count": 3,
      "metadata": {
        "colab": {
          "base_uri": "https://localhost:8080/"
        },
        "id": "zVEkdSqGbdn2",
        "outputId": "2017b13f-a282-49ca-9406-16db6f8a131f"
      },
      "outputs": [
        {
          "name": "stdout",
          "output_type": "stream",
          "text": [
            "Mes         Junio\n",
            "Ventas      22000\n",
            "Ciudad    Caracas\n",
            "Name: 5, dtype: object\n",
            "False\n"
          ]
        }
      ],
      "source": [
        "ventas_5= df_ventas.loc[5]\n",
        "print(ventas_5)\n",
        "\n",
        "es_mayor_30000= df_ventas.loc[5,\"Ventas\"]>30000\n",
        "print(es_mayor_30000)"
      ]
    },
    {
      "cell_type": "code",
      "execution_count": 4,
      "metadata": {
        "colab": {
          "base_uri": "https://localhost:8080/"
        },
        "id": "VTel2PercHRM",
        "outputId": "63cd83fe-fcaf-42de-e67d-63f261da6cf6"
      },
      "outputs": [
        {
          "name": "stdout",
          "output_type": "stream",
          "text": [
            "Mes       Octubre\n",
            "Ventas      45000\n",
            "Ciudad     Bogotá\n",
            "Name: 9, dtype: object\n",
            "Bogotá\n"
          ]
        }
      ],
      "source": [
        "venta_9= df_ventas.iloc[9]\n",
        "print(venta_9)\n",
        "ciudad_venta_9= df_ventas.iloc[9][\"Ciudad\"]\n",
        "print(ciudad_venta_9)"
      ]
    },
    {
      "cell_type": "code",
      "execution_count": 5,
      "metadata": {
        "colab": {
          "base_uri": "https://localhost:8080/"
        },
        "id": "Fvyh_GmLcu1O",
        "outputId": "e45cfb44-557f-4b58-b42e-d89a14a0d6dc"
      },
      "outputs": [
        {
          "name": "stdout",
          "output_type": "stream",
          "text": [
            "El mes es Septiembre y la venta fue de 41000\n"
          ]
        }
      ],
      "source": [
        "def obtener_mes_venta(df,indice):\n",
        "  mes = df.loc[indice,\"Mes\"]\n",
        "  venta = df.loc[indice,\"Ventas\"]\n",
        "  return mes, venta\n",
        "\n",
        "mes, venta= obtener_mes_venta(df_ventas, 20)\n",
        "print(f\"El mes es {mes} y la venta fue de {venta}\")"
      ]
    },
    {
      "cell_type": "code",
      "execution_count": null,
      "metadata": {},
      "outputs": [],
      "source": []
    }
  ],
  "metadata": {
    "colab": {
      "provenance": []
    },
    "kernelspec": {
      "display_name": ".venv",
      "language": "python",
      "name": "python3"
    },
    "language_info": {
      "codemirror_mode": {
        "name": "ipython",
        "version": 3
      },
      "file_extension": ".py",
      "mimetype": "text/x-python",
      "name": "python",
      "nbconvert_exporter": "python",
      "pygments_lexer": "ipython3",
      "version": "3.12.9"
    }
  },
  "nbformat": 4,
  "nbformat_minor": 0
}
